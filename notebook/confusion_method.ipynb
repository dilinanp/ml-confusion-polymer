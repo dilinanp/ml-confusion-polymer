{
 "cells": [
  {
   "cell_type": "markdown",
   "id": "a205b1fc-15d5-4954-ab48-9bd6b2b64516",
   "metadata": {},
   "source": [
    "## Import Frequently Used Libraries and Functions"
   ]
  },
  {
   "cell_type": "code",
   "execution_count": 1,
   "id": "15486a35-a7ff-492f-bc33-4ff3fa31ed74",
   "metadata": {},
   "outputs": [],
   "source": [
    "import numpy as np\n",
    "import pandas as pd\n",
    "import matplotlib.pyplot as plt\n",
    "import os\n",
    "import tensorflow as tf\n",
    "from tensorflow import keras\n",
    "from sklearn.model_selection import train_test_split"
   ]
  },
  {
   "cell_type": "markdown",
   "id": "cd318d1d-db14-40df-834e-edd56dcbea51",
   "metadata": {},
   "source": [
    "## User-Defined Parameters\n",
    "\n",
    "Main configuration settings for the confusion method and neural network training."
   ]
  },
  {
   "cell_type": "code",
   "execution_count": 2,
   "id": "43a4df98-de23-4f52-a740-dc10c308632f",
   "metadata": {},
   "outputs": [],
   "source": [
    "# --- Data selection ---\n",
    "\n",
    "# Select the \"eta\" value. \n",
    "# The repository currently includes data for eta = 0.02 and eta = 0.06.\n",
    "eta = 0.06  \n",
    "\n",
    "# Path to the data directory.\n",
    "# Update this path if your data is stored in a different location than the current working directory.\n",
    "path_to_data = f\"data_eta_{eta:.2f}\"\n",
    "\n",
    "# Select the type of data to use: position coordinates or magnetic dipoles.\n",
    "# Set to True to use magnetic dipole data; set to False to use position data.\n",
    "use_magnetic_data = False \n",
    "\n",
    "# Specify the range of energy bins to include in the analysis\n",
    "lowest_bin_to_read = 18   # Lowest energy bin to include\n",
    "highest_bin_to_read = 56  # Highest energy bin to include\n",
    "\n",
    "# Maximum number of samples to include from each bin\n",
    "max_samples_per_bin = 2000\n",
    "\n",
    "\n",
    "\n",
    "# --- Confusion method ---\n",
    "\n",
    "# Number of independent confusion runs (used to reduce statistical fluctuations)\n",
    "num_runs = 10\n",
    "\n",
    "# Fraction of data reserved for testing \n",
    "test_size = 0.33\n",
    "\n",
    "\n",
    "\n",
    "# --- Neural network hyperparameters ---\n",
    "\n",
    "# Number of hidden layers\n",
    "num_hidden_layers = 2\n",
    "\n",
    "# Number of neurons per hidden layer\n",
    "num_neurons_per_layer=50\n",
    "\n",
    "# Number of epochs (training iterations)\n",
    "epochs = 20  \n",
    "\n",
    "# Learning rate for SGD optimizer\n",
    "learning_rate = 0.001"
   ]
  },
  {
   "cell_type": "markdown",
   "id": "f72acdaf-89fe-4d6f-a09b-da36a8d5cc32",
   "metadata": {},
   "source": [
    "## Read Polymer Configurations and Construct the Feature Matrix"
   ]
  },
  {
   "cell_type": "code",
   "execution_count": 3,
   "id": "5e4dcc79-4850-45c5-9298-5829ad208454",
   "metadata": {},
   "outputs": [
    {
     "name": "stdout",
     "output_type": "stream",
     "text": [
      "Now reading bin_num 18\n",
      "Now reading bin_num 19\n",
      "Now reading bin_num 20\n",
      "Now reading bin_num 21\n",
      "Now reading bin_num 22\n",
      "Now reading bin_num 23\n",
      "Now reading bin_num 24\n",
      "Now reading bin_num 25\n",
      "Now reading bin_num 26\n",
      "Now reading bin_num 27\n",
      "Now reading bin_num 28\n",
      "Now reading bin_num 29\n",
      "Now reading bin_num 30\n",
      "Now reading bin_num 31\n",
      "Now reading bin_num 32\n",
      "Now reading bin_num 33\n",
      "Now reading bin_num 34\n",
      "Now reading bin_num 35\n",
      "Now reading bin_num 36\n",
      "Now reading bin_num 37\n",
      "Now reading bin_num 38\n",
      "Now reading bin_num 39\n",
      "Now reading bin_num 40\n",
      "Now reading bin_num 41\n",
      "Now reading bin_num 42\n",
      "Now reading bin_num 43\n",
      "Now reading bin_num 44\n",
      "Now reading bin_num 45\n",
      "Now reading bin_num 46\n",
      "Now reading bin_num 47\n",
      "Now reading bin_num 48\n",
      "Now reading bin_num 49\n",
      "Now reading bin_num 50\n",
      "Now reading bin_num 51\n",
      "Now reading bin_num 52\n",
      "Now reading bin_num 53\n",
      "Now reading bin_num 54\n",
      "Now reading bin_num 55\n",
      "Now reading bin_num 56\n"
     ]
    }
   ],
   "source": [
    "# Construct the feature matrix from configuration files.\n",
    "# When use_magnetic_data is False, the features are position coordinates of monomers.\n",
    "# When use_magnetic_data is True, the features are normalized magnetic dipole components.\n",
    "\n",
    "X = [] # Feature matrix\n",
    "bin_nums = [] # Corresponding bin number for each configuration\n",
    "\n",
    "mag_moment = np.sqrt(5.0) # The magnitude of magnetic dipole moment\n",
    "\n",
    "for bin_num in range(lowest_bin_to_read, highest_bin_to_read+1):\n",
    "    print(f'Now reading bin_num {bin_num}')\n",
    "\n",
    "    # Find all configuration files associated with the current bin number\n",
    "    all_files = [file_name for file_name in os.listdir(path_to_data) if file_name.startswith(f'Chain_bin{bin_num:05d}_') and file_name.endswith('.dat') ]\n",
    "\n",
    "    # Limit the number of samples to max_samples_per_bin\n",
    "    num_samples_for_this_bin = min(len(all_files), max_samples_per_bin)\n",
    "    all_files = all_files[:num_samples_for_this_bin]\n",
    "\n",
    "    for file_name in all_files:\n",
    "        # Read the current file\n",
    "        config = pd.read_csv(os.path.join(path_to_data, file_name), header=None, sep=r'\\s+')\n",
    "        config = config.to_numpy()\n",
    "\n",
    "        if use_magnetic_data:\n",
    "            # Normalize magnetic dipoles by dividing by the magnitude\n",
    "            config[:, 3:6] /= mag_moment  \n",
    "            \n",
    "            # Append the data for the current configuration into the feature matrix\n",
    "            X.append(config[:, 3:].flatten())\n",
    "        else: \n",
    "            # Subtract the center of mass from the position coordinates\n",
    "            config[:, 0:3] -= np.mean(config[:, 0:3], axis=0)\n",
    "            \n",
    "            # Append the data for the current configuration into the feature matrix\n",
    "            X.append(config[:, 0:3].flatten())\n",
    "        \n",
    "        bin_nums.append(bin_num)\n",
    "\n",
    "# Convert lists to NumPy arrays\n",
    "X = np.array(X)\n",
    "bin_nums = np.array(bin_nums)"
   ]
  },
  {
   "cell_type": "markdown",
   "id": "77ab904e-8ae1-4143-b1fb-aa32050fd924",
   "metadata": {},
   "source": [
    "## Function: Build and Train a Feed-Forward Neural Network\n",
    "\n",
    "Defines and trains a feed-forward neural network using the Keras API. Returns the final accuracy on the training and test sets."
   ]
  },
  {
   "cell_type": "code",
   "execution_count": 4,
   "id": "0895f2b8-95fe-4e31-9b97-2965ce648abb",
   "metadata": {},
   "outputs": [],
   "source": [
    "def train_model(X_train, y_train, X_test, y_test, num_hidden_layers=2, num_neurons_per_layer=50, epochs=20, learning_rate=0.001):\n",
    "    # Define a feed-forward neural network\n",
    "    model = keras.models.Sequential()\n",
    "    \n",
    "    # Add input layer\n",
    "    model.add(keras.layers.Dense(num_neurons_per_layer, activation='relu', input_shape=(X_train.shape[1],)))\n",
    "\n",
    "    # Add hidden layers\n",
    "    for _ in range(num_hidden_layers - 1):\n",
    "        model.add(keras.layers.Dense(num_neurons_per_layer, activation='relu'))\n",
    "\n",
    "    # Add output layer\n",
    "    model.add(keras.layers.Dense(1, activation='sigmoid'))\n",
    "\n",
    "    # Compile the model\n",
    "    model.compile(\n",
    "        optimizer=keras.optimizers.SGD(learning_rate=learning_rate),\n",
    "        loss=keras.losses.BinaryCrossentropy(),\n",
    "        metrics=['accuracy']\n",
    "    )\n",
    "\n",
    "    # Train the model\n",
    "    history = model.fit(X_train, y_train,\n",
    "                        epochs=epochs,\n",
    "                        validation_data=(X_test, y_test),\n",
    "                        verbose=0)\n",
    "    \n",
    "    # Return final training and test accuracy\n",
    "    return history.history['accuracy'][-1], history.history['val_accuracy'][-1]"
   ]
  },
  {
   "cell_type": "markdown",
   "id": "f5958009-7422-4c4d-9c1b-c92548c22c94",
   "metadata": {},
   "source": [
    "## Run the Confusion Method Over Trial Transition Points"
   ]
  },
  {
   "cell_type": "code",
   "execution_count": 5,
   "id": "93ec90db-6306-4f61-9d40-c0726a1f5ab2",
   "metadata": {},
   "outputs": [
    {
     "name": "stdout",
     "output_type": "stream",
     "text": [
      "Now working on trial transition point 1 of 40\n",
      "Now working on trial transition point 2 of 40\n",
      "Now working on trial transition point 3 of 40\n",
      "Now working on trial transition point 4 of 40\n",
      "Now working on trial transition point 5 of 40\n",
      "Now working on trial transition point 6 of 40\n",
      "Now working on trial transition point 7 of 40\n",
      "Now working on trial transition point 8 of 40\n",
      "Now working on trial transition point 9 of 40\n",
      "Now working on trial transition point 10 of 40\n",
      "Now working on trial transition point 11 of 40\n",
      "Now working on trial transition point 12 of 40\n",
      "Now working on trial transition point 13 of 40\n",
      "Now working on trial transition point 14 of 40\n",
      "Now working on trial transition point 15 of 40\n",
      "Now working on trial transition point 16 of 40\n",
      "Now working on trial transition point 17 of 40\n",
      "Now working on trial transition point 18 of 40\n",
      "Now working on trial transition point 19 of 40\n",
      "Now working on trial transition point 20 of 40\n",
      "Now working on trial transition point 21 of 40\n",
      "Now working on trial transition point 22 of 40\n",
      "Now working on trial transition point 23 of 40\n",
      "Now working on trial transition point 24 of 40\n",
      "Now working on trial transition point 25 of 40\n",
      "Now working on trial transition point 26 of 40\n",
      "Now working on trial transition point 27 of 40\n",
      "Now working on trial transition point 28 of 40\n",
      "Now working on trial transition point 29 of 40\n",
      "Now working on trial transition point 30 of 40\n",
      "Now working on trial transition point 31 of 40\n",
      "Now working on trial transition point 32 of 40\n",
      "Now working on trial transition point 33 of 40\n",
      "Now working on trial transition point 34 of 40\n",
      "Now working on trial transition point 35 of 40\n",
      "Now working on trial transition point 36 of 40\n",
      "Now working on trial transition point 37 of 40\n",
      "Now working on trial transition point 38 of 40\n",
      "Now working on trial transition point 39 of 40\n",
      "Now working on trial transition point 40 of 40\n"
     ]
    }
   ],
   "source": [
    "# Define trial transition points.\n",
    "# Here, we choose the trial transition points to be the centers of the energy bins.\n",
    "bin_centers = np.arange(lowest_bin_to_read - 0.5, highest_bin_to_read + 1.5, 1)\n",
    "\n",
    "# Lists to store accuracy results for each trial transition point\n",
    "mean_train_accuracy = [] # Mean training accuracy\n",
    "err_train_accuracy = [] # Standard error of training accuracy\n",
    "mean_test_accuracy = [] # Mean test accuracy\n",
    "err_test_accuracy = [] # Standard error of test accuracy\n",
    "\n",
    "for i, trial_trans_point in enumerate(bin_centers):\n",
    "    print(f\"Now working on trial transition point {i+1} of {len(bin_centers)}\")\n",
    "    \n",
    "    # Assign labels based on the trial transition point\n",
    "    y = np.where(bin_nums<trial_trans_point, 0, 1)\n",
    "\n",
    "    train_accuracy = np.zeros(num_runs) \n",
    "    test_accuracy = np.zeros(num_runs)\n",
    "\n",
    "    for run_num in range(num_runs):\n",
    "        # Randomly split the data into training and test sets\n",
    "        X_train, X_test, y_train, y_test = train_test_split(X, y, test_size=test_size)\n",
    "\n",
    "        # Build and train a neural network\n",
    "        train_acc, test_acc = train_model(X_train, y_train, X_test, y_test, num_hidden_layers, num_neurons_per_layer, epochs, learning_rate)\n",
    "        \n",
    "        train_accuracy[run_num] = train_acc\n",
    "        test_accuracy[run_num] = test_acc\n",
    "\n",
    "    # Compute mean and standard error of training accuracy\n",
    "    mean_train_accuracy.append(train_accuracy.mean())\n",
    "    err_train_accuracy.append(train_accuracy.std(ddof=1)/np.sqrt(num_runs))\n",
    "\n",
    "    # Compute mean and standard error of test accuracy\n",
    "    mean_test_accuracy.append(test_accuracy.mean())\n",
    "    err_test_accuracy.append(test_accuracy.std(ddof=1)/np.sqrt(num_runs))"
   ]
  },
  {
   "cell_type": "markdown",
   "id": "71aa5972-4b2e-46eb-be02-79a46893a3d3",
   "metadata": {},
   "source": [
    "## Save Accuracy vs. Trial Transition Energy Data to File"
   ]
  },
  {
   "cell_type": "code",
   "execution_count": 6,
   "id": "14e085fe-4356-43e7-8c89-3f7050909214",
   "metadata": {},
   "outputs": [],
   "source": [
    "# --- Map bins to energies ---\n",
    "if eta==0.02:\n",
    "    trial_transition_energy = (bin_centers * 100) / 21.16 - 1145\n",
    "elif eta==0.06:\n",
    "    trial_transition_energy = (bin_centers * 100) / 20.20 - 1190\n",
    "else:\n",
    "    raise ValueError(f'Invalid eta value: {eta}. Supported values are 0.02 and 0.06.')\n",
    "\n",
    "\n",
    "# --- Save results to CSV file ---\n",
    "\n",
    "# Construct a Pandas DataFrame\n",
    "results = pd.DataFrame({\n",
    "    'bin_center': bin_centers,\n",
    "    'trial_transition_energy': trial_transition_energy,\n",
    "    'mean_test_accuracy': mean_test_accuracy,\n",
    "    'err_test_accuracy': err_test_accuracy,\n",
    "})\n",
    "\n",
    "data_type = 'magnetic' if use_magnetic_data else 'spatial'\n",
    "output_file = f'confusion_results_{data_type}_eta_{eta:.2f}_bin_range_{lowest_bin_to_read}_{highest_bin_to_read}.csv'\n",
    "\n",
    "# Save the DataFrame to disk\n",
    "results.to_csv(output_file, index=False)"
   ]
  },
  {
   "cell_type": "markdown",
   "id": "ff4c0001-4e72-45e6-9a9a-76922e928caa",
   "metadata": {},
   "source": [
    "## Plot Results"
   ]
  },
  {
   "cell_type": "code",
   "execution_count": 7,
   "id": "6b43267b-7c77-4e40-a1ec-e04bd8dc15bc",
   "metadata": {},
   "outputs": [
    {
     "data": {
      "image/png": "[encoded data removed]",
      "text/plain": [
       "<Figure size 640x480 with 1 Axes>"
      ]
     },
     "metadata": {},
     "output_type": "display_data"
    }
   ],
   "source": [
    "# Plot test accuracy as a function of trial transition energy\n",
    "\n",
    "plt.errorbar(trial_transition_energy, mean_test_accuracy, yerr=err_test_accuracy, fmt='bo-', capsize=3)\n",
    "plt.xlabel(r\"$E_c^\\prime$\")\n",
    "plt.ylabel(r\"$P(E_c^\\prime)$\")\n",
    "plt.title(f\"Confusion curve for {data_type} data at $\\eta$ = {eta}\")\n",
    "plt.grid(True)\n",
    "plt.tight_layout()\n",
    "plt.show()"
   ]
  }
 ],
 "metadata": {
  "kernelspec": {
   "display_name": "Python 3 (ipykernel)",
   "language": "python",
   "name": "python3"
  },
  "language_info": {
   "codemirror_mode": {
    "name": "ipython",
    "version": 3
   },
   "file_extension": ".py",
   "mimetype": "text/x-python",
   "name": "python",
   "nbconvert_exporter": "python",
   "pygments_lexer": "ipython3",
   "version": "3.10.12"
  }
 },
 "nbformat": 4,
 "nbformat_minor": 5
}
